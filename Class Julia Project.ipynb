{
 "cells": [
  {
   "cell_type": "markdown",
   "metadata": {},
   "source": [
    "### Julia Project  \n",
    "#### Given two points as the endpoints of a diameter of a circle: $(x_1,y_1)$ and $(x_2, y_2)$, create Julia function(s) to do the following: \n",
    "1) Find the center of the circle (equivalent to midpoint): $( \\frac{x_1+x_2}{2}, \\frac{y_1+y_2}{2} )$ where $h = \\frac{x_1+x_2}{2}$ and $k = \\frac{y_1+y_2}{2}$ <br>\n",
    "2) Find the radius of the circle (use Pythagorean Theorem): $r^2 = (y_1-y_2)^2 + (x_1-x_2)^2$ <br>\n",
    "3) Find a circle equation: $(x-h)^2 + (y-k)^2 = r^2$ <br>\n",
    "4) Find the slope of the given diameter: $m = \\frac{x_1 - x_2}{y_1 - y_2}$ <br>\n",
    "5) Find the equation of the perpendicular bisector of the given diameter (hint: perpendicular means its slope is $\\frac{-1}{m}$):<br>\n",
    "$$(y - y_1) = \\frac{-1}{m}(x - x_1)$$ \n",
    "6) Find end points of the second diameter <br>\n",
    "\n"
   ]
  },
  {
   "cell_type": "markdown",
   "metadata": {},
   "source": [
    "#### Answer to #1 problem\n",
    "Insert the given two points, $(x_1, y_1)$ and $(x_2, y_2)$, as inputs for the function \"find_center\". (Note: $h = \\frac{x_1+x_2}{2}$ and $k = \\frac{y_1+y_2}{2}$) <br>"
   ]
  },
  {
   "cell_type": "code",
   "execution_count": 1,
   "metadata": {},
   "outputs": [
    {
     "data": {
      "text/plain": [
       "find_center (generic function with 1 method)"
      ]
     },
     "execution_count": 1,
     "metadata": {},
     "output_type": "execute_result"
    }
   ],
   "source": [
    "#Insert given two points, (x1, y1) and (x2, y2), as inputs for the function \"find_center\"\n",
    "# Answer to #1 question\n",
    "\n",
    "function find_center(x1,y1,x2,y2)\n",
    "    h = (x1+x2)/2                # h is x-center\n",
    "    k = (y1+y2)/2                # k is y-center\n",
    "    return((h,k))\n",
    "end"
   ]
  },
  {
   "cell_type": "code",
   "execution_count": 2,
   "metadata": {},
   "outputs": [
    {
     "data": {
      "text/plain": [
       "(2.0, -1.0)"
      ]
     },
     "execution_count": 2,
     "metadata": {},
     "output_type": "execute_result"
    }
   ],
   "source": [
    "#Test with two given two points, (x1,y1)=(5,3) and (x2,y2) = (-1, -5)\n",
    "\n",
    "find_center(5,3,-1,-5)"
   ]
  },
  {
   "cell_type": "markdown",
   "metadata": {},
   "source": [
    "#### Answer to #2 problem\n",
    "Insert the given two points, $(x_1, y_1)$ and $(x_2, y_2)$, as inputs for the function \"find_radius\".<br>\n",
    "(Note: $h = \\frac{x_1+x_2}{2}$ and $k = \\frac{y_1+y_2}{2}$) <br>"
   ]
  },
  {
   "cell_type": "code",
   "execution_count": 3,
   "metadata": {},
   "outputs": [
    {
     "data": {
      "text/plain": [
       "find_radius (generic function with 1 method)"
      ]
     },
     "execution_count": 3,
     "metadata": {},
     "output_type": "execute_result"
    }
   ],
   "source": [
    "#Insert given two points, (x1, y1) and (x2, y2), as inputs for the function \"find_radius\"\n",
    "# Answer to #2 question\n",
    "\n",
    "function find_radius(x1,y1,x2,y2)\n",
    "    h = (x1+x2)/2                      # h is x-center\n",
    "    k = (y1+y2)/2                      # k is y-center\n",
    "    r = sqrt( (x1-h)^2 + (y1-k)^2 )    # use Pythagorean Theorem to find r^2\n",
    "    return(r)\n",
    "end"
   ]
  },
  {
   "cell_type": "code",
   "execution_count": 4,
   "metadata": {},
   "outputs": [
    {
     "data": {
      "text/plain": [
       "5.0"
      ]
     },
     "execution_count": 4,
     "metadata": {},
     "output_type": "execute_result"
    }
   ],
   "source": [
    "#Test with two given two points, (x1,y1)=(5,3) and (x2,y2) = (-1, -5)\n",
    "\n",
    "find_radius(5,3,-1,-5)"
   ]
  },
  {
   "cell_type": "markdown",
   "metadata": {},
   "source": [
    "#### Answer to #3 problem\n",
    "Problem 3 does not require to create a Julia function.  Just use problem 1 and 2 to do the problem 3\n",
    "\n",
    "$(x-h)^2 + (y-k)^2 = r^2$ where you get $h$ and $k$ from \"find_center\" and $r$ from \"find_radius\" functions.\n",
    "\n",
    "For the given two end points its circle equation is $(x - 2)^2 + (y + 1)^2 = 25$ where $h = 2, k = -1$, and $r = 5$"
   ]
  },
  {
   "cell_type": "markdown",
   "metadata": {},
   "source": [
    "#### Answer to #4 problem\n",
    "Insert the given two points, $(x_1, y_1)$ and $(x_2, y_2)$, as inputs for the function \"find_slope\""
   ]
  },
  {
   "cell_type": "code",
   "execution_count": 5,
   "metadata": {},
   "outputs": [
    {
     "data": {
      "text/plain": [
       "find_slope (generic function with 1 method)"
      ]
     },
     "execution_count": 5,
     "metadata": {},
     "output_type": "execute_result"
    }
   ],
   "source": [
    "## Answer to #4 problem\n",
    "# Insert the given two points, (x1, y1) and (x2, y2), as inputs for the function \"find_slope\"\n",
    "\n",
    "function find_slope(x1,y1,x2,y2)\n",
    "    m = (y1-y2)/(x1-x2)                 # m = slope\n",
    "    return(m)\n",
    "end"
   ]
  },
  {
   "cell_type": "code",
   "execution_count": 6,
   "metadata": {},
   "outputs": [
    {
     "data": {
      "text/plain": [
       "1.3333333333333333"
      ]
     },
     "execution_count": 6,
     "metadata": {},
     "output_type": "execute_result"
    }
   ],
   "source": [
    "#Test with two given two points, (x1,y1)=(5,3) and (x2,y2) = (-1, -5)\n",
    "\n",
    "find_slope(5,3,-1,-5)"
   ]
  },
  {
   "cell_type": "markdown",
   "metadata": {},
   "source": [
    "#### Answer to #5 problem\n",
    "Insert the given two points, $(x_1, y_1)$ and $(x_2, y_2)$, as inputs for the function \"find_perd_yint\"\n",
    "\n",
    "After find the y-intercept and using problems 4 we can find an equation $y = \\frac{-1}{m}\\cdot x + b$\n"
   ]
  },
  {
   "cell_type": "code",
   "execution_count": 7,
   "metadata": {},
   "outputs": [
    {
     "data": {
      "text/plain": [
       "find_perd_yint (generic function with 1 method)"
      ]
     },
     "execution_count": 7,
     "metadata": {},
     "output_type": "execute_result"
    }
   ],
   "source": [
    "## Answer to #5 problem\n",
    "# Insert the given two points, (x1, y1) and (x2, y2), as inputs for the function \"find_yinterceipt\"\n",
    "\n",
    "function find_perd_yint(x1,y1,x2,y2)\n",
    "    m = (y1-y2)/(x1-x2)                 # m = slope\n",
    "    perd_m = -1/m                       # perpendicular slope means -1/m\n",
    "    b = y1 - perd_m*x1                  # find b = y-intercept\n",
    "    return(b)                           # return y-intercetp \n",
    "end"
   ]
  },
  {
   "cell_type": "code",
   "execution_count": 8,
   "metadata": {},
   "outputs": [
    {
     "data": {
      "text/plain": [
       "6.75"
      ]
     },
     "execution_count": 8,
     "metadata": {},
     "output_type": "execute_result"
    }
   ],
   "source": [
    "#Test with two given two points, (x1,y1)=(5,3) and (x2,y2) = (-1, -5)\n",
    "\n",
    "find_perd_yint(5,3,-1,-5)"
   ]
  },
  {
   "cell_type": "markdown",
   "metadata": {},
   "source": [
    "#### For the given two end points, its perpendicular equation is $y = 1.33x + 6.75$ where $\\frac{-1}{m} = \\frac{-1}{1.33} = -0.75$ and $b = 6.75$"
   ]
  },
  {
   "cell_type": "markdown",
   "metadata": {},
   "source": [
    "#### Answer to #6 problem\n",
    "Insert the given two points, $(x_1, y_1)$ and $(x_2, y_2)$, as inputs for the function \"find_two_endpoints\"\n",
    "In order to find two end poitns of the other diameter we need to know $height=|h-y_1|$ and $width = |k-x_1|$. <br>\n",
    "New points are: <br>\n",
    "$x_3 = x_{center}$(or $h$) + width, <br>\n",
    "$y_3 = y_{center}$(or $k$) - height, <br>\n",
    "$x_4 = x_{center}$(or $h$) - width, and <br>\n",
    "$y_4 = y_{center}$(or $k$) + height    "
   ]
  },
  {
   "cell_type": "code",
   "execution_count": 9,
   "metadata": {},
   "outputs": [
    {
     "data": {
      "text/plain": [
       "find_two_endpoints (generic function with 1 method)"
      ]
     },
     "execution_count": 9,
     "metadata": {},
     "output_type": "execute_result"
    }
   ],
   "source": [
    "#Insert given two points, (x1, y1) and (x2, y2), as inputs for the function \"find_two_endpoints\"\n",
    "# Answer to #6 question\n",
    "\n",
    "function find_two_endpoints(x1,y1,x2,y2)\n",
    "    h = (x1+x2)/2                          # h = x_center \n",
    "    k = (y1+y2)/2                          # k = y_center\n",
    "    height = abs(k-y2)\n",
    "    width = abs(h-x2)    \n",
    "    x1_endpoint = h + width         # find the first x end point\n",
    "    x2_endpoint = h - width         # find the second x end point\n",
    "    y1_endpoint = k - height        # find the first y end point\n",
    "    y2_endpoint = k + height        # find the second y end point\n",
    "    return((x1_endpoint,y1_endpoint), (x2_endpoint,y2_endpoint))   # return two endpoints\n",
    "end"
   ]
  },
  {
   "cell_type": "code",
   "execution_count": 10,
   "metadata": {},
   "outputs": [
    {
     "data": {
      "text/plain": [
       "((5.0, -5.0), (-1.0, 3.0))"
      ]
     },
     "execution_count": 10,
     "metadata": {},
     "output_type": "execute_result"
    }
   ],
   "source": [
    "find_two_endpoints(5,3,-1,-5)"
   ]
  },
  {
   "cell_type": "code",
   "execution_count": null,
   "metadata": {},
   "outputs": [],
   "source": []
  }
 ],
 "metadata": {
  "kernelspec": {
   "display_name": "Julia 1.0.3",
   "language": "julia",
   "name": "julia-1.0"
  },
  "language_info": {
   "file_extension": ".jl",
   "mimetype": "application/julia",
   "name": "julia",
   "version": "1.0.3"
  }
 },
 "nbformat": 4,
 "nbformat_minor": 2
}
