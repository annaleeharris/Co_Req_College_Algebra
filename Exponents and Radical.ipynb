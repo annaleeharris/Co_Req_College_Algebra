{
 "cells": [
  {
   "cell_type": "markdown",
   "metadata": {},
   "source": [
    "## Exponents and Radicals\n",
    "<b>Objectives <br>\n",
    "1) Use properties of expenents. <br>\n",
    "2) Use properties of radicals.<br>\n",
    "3) Simplify and combine expressions.<br>\n",
    "4) Use properties of rational exponents.<br>"
   ]
  },
  {
   "cell_type": "markdown",
   "metadata": {},
   "source": [
    "### Integer Exponents\n",
    "#### Exponential Notation\n",
    "If $a$ is a real number $n$ is a postive integer, then\n",
    "$a^n = a\\cdot a\\cdot a...a$\n",
    "where $n$ is the <b>exponent</b> and $a$ is the <b>base</b>.\n",
    "You read $a^n$ as \"$a$ to the $n^{th}$ <b>power.\n"
   ]
  },
  {
   "cell_type": "markdown",
   "metadata": {},
   "source": [
    "#### Integer Exponets\n",
    "Repeated mutiplication can be written in <b> exponential form \n",
    "    \n",
    "<table align=\"left\">\n",
    "<thead>\n",
    "<tr>\n",
    "<th>Repeated Multiplication</th>\n",
    "<th>Exponential Form</th>\n",
    "</tr>\n",
    "</thead>\n",
    "<tbody>\n",
    "<tr>\n",
    "<td>$a\\cdot a\\cdot a\\cdot a\\cdot a$ </td>\n",
    "<td>$a^5$</td>\n",
    "</tr>\n",
    "<tr>\n",
    "<td>$(-5)(-5)(-5)$</td>\n",
    "<td>$(-5)^3$</td>\n",
    "</tr>\n",
    "<tr>\n",
    "<td>$(3x)(3x)(3x)(3x)$</td>\n",
    "<td>$(3x)^4$</td>\n",
    "</tr>\n",
    "</tbody>\n",
    "</table>    \n",
    "    "
   ]
  },
  {
   "cell_type": "markdown",
   "metadata": {},
   "source": [
    "#### Properties of Exponents\n",
    "Let $a$ and $b$ be real numbers, variables, or algebraic expressions, and let $m$ and $n$ be integers. All denominators and bases are nonzero.\n",
    "<table align=\"left\">\n",
    "<thead>\n",
    "<tr>\n",
    "    <th>Property</th>\n",
    "    <th>     </th>\n",
    "    <th>Example</th>\n",
    "</tr>\n",
    "</thead>\n",
    "    \n",
    "<tbody>\n",
    "<tr>\n",
    "    <td>$a^m\\cdot a^n$ $=a^{m+n}$ </td>\n",
    "    <td>   </td>\n",
    "    <td> $3^2\\cdot 3^5$ $=3^{2+5}$ $=3^7$ $=2187$</td>\n",
    "</tr>\n",
    "<tr>\n",
    "    <td>$\\frac{a^m}{a^n}$ $=a^{m-n}$ </td>\n",
    "    <td>   </td>\n",
    "    <td>$\\frac{x^7}{x^3}$ $=x^{7-3}$ $=x^3$ </td>\n",
    "</tr>\n",
    "<tr>\n",
    "     <td>$a^{-n}$ $=\\frac{1}{a^n}$ $=(\\frac{1}{a})^n$ </td>\n",
    "     <td>   </td>\n",
    "     <td>$y^{-4}$ $=\\frac{1}{y^4}$ $=(\\frac{1}{y})^4$ </td>\n",
    "</tr>\n",
    "<tr>\n",
    "     <td>$a^0=1$, $a\\neq0$ </td>\n",
    "     <td>   </td>\n",
    "     <td>$(x^2$ $+4x$ $+1)^0$ $=1$ </td>\n",
    "</tr>\n",
    "<tr>\n",
    "    <td>$(ab)^m$ $=a^mb^m$</td>\n",
    "    <td> </td>\n",
    "    <td>$(2z)^3$ $=2^3z^3$ $=8z^3$\n",
    "</tr>\n",
    "<tr>\n",
    "    <td>$(a^m)^n$ $=a^{mn}$</td>\n",
    "    <td>  </td>\n",
    "    <td>$(t^4)^{-3}$ $=t^{4*-3}$ $=t^{-12}$ $=\\frac{1}{t^{12}}$ $=(\\frac{1}{t^{12}})$ </td>\n",
    "<tr>\n",
    "    <td>($\\frac{a}{b})^m$ $=\\frac{a^m}{b^m}$ </td>\n",
    "    <td>   </td>\n",
    "    <td>$(\\frac{t}{3})^2$ $=\\frac{t^2}{3^2}$ $=\\frac{t^2}{9}$ </td>\n",
    "</tr>\n",
    "<tr>\n",
    "    <td>$ |a^2|$ $=|a|^2$ $=a^2$ </td>\n",
    "    <td>  </td>\n",
    "    <td>$|(-3)^2|$ $={|(-3)|}^2$ $={(-3)}^2$ $=9$ </td>\n",
    "</tbody>\n",
    "</table>    \n",
    "    "
   ]
  },
  {
   "cell_type": "markdown",
   "metadata": {},
   "source": [
    "It is important to recognize the difference between expressions such as $(-2)^4$ and $-2^4$. \n",
    "n",
    "In $(-2)^4$, the parentheses indicate that the exponent applies to the negative sign as well as to the $2$, but in $-2^4= -(2^4)$, the exponent applies only to the $2$. \n",
    "\n",
    "So, $(-2)^4 = 16$ and $-2^4 = -16$."
   ]
  },
  {
   "cell_type": "markdown",
   "metadata": {},
   "source": [
    "#### <font color = \"red\"> Assignments </font> : use the properties of exponents to simplify each expression\n",
    "1) $(-3ab^4)(4ab^{-3})$ <br>\n",
    "2) $(2xy^2)^3$ <br>\n",
    "3) $3a(-4a^2)^0$ <br>\n",
    "4) $(\\frac{5x^3}{y})^2$ <br>\n",
    "\n",
    "#### <font color = \"red\"> Use Julia to verify your answer.</font> <font color = \"green\"> Utilize SymPy for symbolic manipulations. <br> SymPy tutorial is [here](https://github.com/JuliaPy/SymPy.jl/blob/master/examples/tutorial.md) \n",
    "</font>"
   ]
  },
  {
   "cell_type": "code",
   "execution_count": 2,
   "metadata": {},
   "outputs": [
    {
     "name": "stdout",
     "output_type": "stream",
     "text": [
      "\u001b[32m\u001b[1m Resolving\u001b[22m\u001b[39m package versions...\n",
      "\u001b[32m\u001b[1m  Updating\u001b[22m\u001b[39m `~/.julia/Project.toml`\n",
      "\u001b[90m [no changes]\u001b[39m\n",
      "\u001b[32m\u001b[1m  Updating\u001b[22m\u001b[39m `~/.julia/Manifest.toml`\n",
      "\u001b[90m [no changes]\u001b[39m\n"
     ]
    }
   ],
   "source": [
    "using SymPy\n",
    "Pkg.add(\"SymPy\")"
   ]
  },
  {
   "cell_type": "code",
   "execution_count": 4,
   "metadata": {},
   "outputs": [
    {
     "data": {
      "text/plain": [
       "(a, b, x, y)"
      ]
     },
     "execution_count": 4,
     "metadata": {},
     "output_type": "execute_result"
    }
   ],
   "source": [
    "@vars a b x y\n",
    "a,b,x,y = Sym(\"a,b,x,y\")"
   ]
  },
  {
   "cell_type": "code",
   "execution_count": 5,
   "metadata": {},
   "outputs": [
    {
     "data": {
      "text/latex": [
       "\\begin{equation*}- 12 a^{2} b\\end{equation*}"
      ],
      "text/plain": [
       "     2  \n",
       "-12*a *b"
      ]
     },
     "execution_count": 5,
     "metadata": {},
     "output_type": "execute_result"
    }
   ],
   "source": [
    "# problem 1 solution\n",
    "\n",
    "simplify((-3a*b^4)*(4a*b^-3))"
   ]
  },
  {
   "cell_type": "code",
   "execution_count": 6,
   "metadata": {},
   "outputs": [
    {
     "data": {
      "text/latex": [
       "\\begin{equation*}8 x^{3} y^{6}\\end{equation*}"
      ],
      "text/plain": [
       "   3  6\n",
       "8*x *y "
      ]
     },
     "execution_count": 6,
     "metadata": {},
     "output_type": "execute_result"
    }
   ],
   "source": [
    "# problem 2 solution\n",
    "\n",
    "simplify((2x*y^2)^3)"
   ]
  },
  {
   "cell_type": "code",
   "execution_count": 18,
   "metadata": {},
   "outputs": [
    {
     "data": {
      "text/latex": [
       "\\begin{equation*}3 a\\end{equation*}"
      ],
      "text/plain": [
       "3*a"
      ]
     },
     "execution_count": 18,
     "metadata": {},
     "output_type": "execute_result"
    }
   ],
   "source": [
    "# problem 3 solution\n",
    "\n",
    "simplify(3a*(-4a^2)^0)"
   ]
  },
  {
   "cell_type": "code",
   "execution_count": 7,
   "metadata": {},
   "outputs": [
    {
     "data": {
      "text/latex": [
       "\\begin{equation*}\\frac{25 x^{6}}{y^{2}}\\end{equation*}"
      ],
      "text/plain": [
       "    6\n",
       "25*x \n",
       "-----\n",
       "   2 \n",
       "  y  "
      ]
     },
     "execution_count": 7,
     "metadata": {},
     "output_type": "execute_result"
    }
   ],
   "source": [
    "# problem 4 solution\n",
    "\n",
    "simplify((5x^3/y)^2)"
   ]
  },
  {
   "cell_type": "markdown",
   "metadata": {},
   "source": [
    "### Radicals and Their Properties\n",
    "A <b>square root</b> of a number is one of its two equal factors. For example, $5$ is a square root of $25$ because $5$ is one of the two equal factors of $25$.\n",
    "\n",
    "In a similar way, a <b>cube root</b> of a number is one of its three equal factors, as in $125 = 5^3$."
   ]
  },
  {
   "cell_type": "markdown",
   "metadata": {},
   "source": [
    "#### Definition of $n^{th}$ root of a Number\n",
    "Let $a$ and $b$ be real numbers and $n\\leq 2$ be positive integer.  If $a = b^n$, then $b$ is an <b>$n^{th}$ of a</b>. When $n=2$, the root is a <b>square root</b>.  When $n=3$, the root is a <b>cube root</b>."
   ]
  },
  {
   "cell_type": "markdown",
   "metadata": {},
   "source": [
    "#### Principal of $n^{th}$ root of a Number\n",
    "Let $a$ be real a number that has a least one $n^{th}$ root. The <b>principal of $n^{th}$ rooth of $a$</b> is the $n^{th}$ root that has the same sign as $a$.  It is denoted by a <b>radical symbol</b> $\\sqrt[n]a$.\n",
    "The positive integer $n\\geq 2$ is the <b>index</b> of the radical, and the number $a$ is the <b>radicand</b>.  When $n=2$, omit the index and write $\\sqrt a$ rathan than $\\sqrt[2]a$. (The plural of index is *indices*."
   ]
  },
  {
   "cell_type": "markdown",
   "metadata": {},
   "source": [
    "#### Properties of Radicals\n",
    "Let $a$ and $b$ be real numbers, variables, or algebraic expressions such that the indicated roots are real numbers, and let $m$ and $n$ be positive integers.\n",
    "<table align=\"left\">\n",
    "<thead>\n",
    "<tr>\n",
    "    <th>Property</th>\n",
    "    <th>     </th>\n",
    "    <th>Example</th>\n",
    "</tr>\n",
    "</thead>\n",
    "    \n",
    "<tbody>\n",
    "<tr>\n",
    "    <td>$\\sqrt[n] {a^m}$ $={(\\sqrt[n]a)}^m$ </td>\n",
    "    <td>   </td>\n",
    "    <td> $\\sqrt[3] {8^2}$ $={(\\sqrt[3]8)}^2$ $=(2)^2$ $=4$</td>\n",
    "</tr>\n",
    "<tr>\n",
    "    <td>$\\sqrt[n]a$ $\\cdot\\sqrt[n]b$ $=\\sqrt[n]{ab}$ </td>\n",
    "    <td>   </td>\n",
    "    <td>$\\sqrt 5$ $\\cdot\\sqrt 7$ $=\\sqrt{5 \\cdot 7}$ $=\\sqrt {35}$ </td>\n",
    "</tr>\n",
    "<tr>\n",
    "     <td>$\\sqrt[m] {\\sqrt[n] a}$ $=\\sqrt[{mn}] a$ </td>\n",
    "     <td>   </td>\n",
    "     <td>$\\sqrt[3] {\\sqrt {10}}$ $=\\sqrt[6] {10}$</td>\n",
    "</tr>\n",
    "<tr>\n",
    "     <td>$\\frac{\\sqrt[n]a}{\\sqrt[n]b}$ $=\\sqrt[n]{\\frac{a}{b}}$, $b\\neq 0$ </td>\n",
    "     <td>   </td>\n",
    "     <td>$\\frac{\\sqrt[4]{27}}{\\sqrt[3]9}$ $=\\sqrt[4]{\\frac{27}{9}}$ $=\\sqrt[4]3$  </td>\n",
    "</tr>\n",
    "<tr>\n",
    "    <td>$({\\sqrt[n]a)}^n$ $=a$ </td>\n",
    "    <td> </td>\n",
    "    <td>$({\\sqrt[3] 9)}^3$ $=9$</td>\n",
    "</tr>\n",
    "<tr>\n",
    "    <td>For $n$ even, $\\sqrt[n] {a^n}$ $= |a|$</td>\n",
    "    <td>  </td>\n",
    "    <td>$\\sqrt {{(-12)}^2}$ $=|$$-12|$ $=12$ </td>\n",
    "<tr>\n",
    "    <td>For $n$ odd, $\\sqrt[n] {a^n}$ $= a$ </td>\n",
    "    <td>   </td>\n",
    "    <td>$\\sqrt[3] {{(-12)}^3}$ $=-12$  </td>\n",
    "</tr>\n",
    "\n",
    "</tbody>\n",
    "</table>    \n",
    "    \n"
   ]
  },
  {
   "cell_type": "markdown",
   "metadata": {},
   "source": [
    "#### <font color = \"red\"> Assignments </font> : use the properties of radicals to simplify each expression\n",
    "\n",
    "1) $\\sqrt 8$ $\\cdot \\sqrt 2$ <br>\n",
    "2) ${(\\sqrt[3]5)}^3$ <br>\n",
    "3) $\\sqrt[3]{x^3}$ <br>\n",
    "4) $\\sqrt[4]{{(5x)}^4}$ <br>\n",
    "5) $\\sqrt[3]{{27}^2}$ <br>\n",
    "6) $\\frac{\\sqrt[5]{10}}{\\sqrt[5]2}$\n",
    "\n",
    "\n",
    "\n",
    "#### <font color = \"red\"> Use Julia to verify your answer.</font> Juila documentation of Mathemtaical operations and elementary functions is [here](https://pkg.julialang.org/docs/julia/THl1k/1.1.1/manual/mathematical-operations.html#Mathematical-Operations-and-Elementary-Functions-1) \n"
   ]
  },
  {
   "cell_type": "code",
   "execution_count": 14,
   "metadata": {},
   "outputs": [
    {
     "data": {
      "text/plain": [
       "4.000000000000001"
      ]
     },
     "execution_count": 14,
     "metadata": {},
     "output_type": "execute_result"
    }
   ],
   "source": [
    "# problem 1 solution\n",
    "\n",
    "sqrt(8)*sqrt(2)"
   ]
  },
  {
   "cell_type": "code",
   "execution_count": 1,
   "metadata": {},
   "outputs": [
    {
     "data": {
      "text/plain": [
       "5.000000000000001"
      ]
     },
     "execution_count": 1,
     "metadata": {},
     "output_type": "execute_result"
    }
   ],
   "source": [
    "# problem 2 solution\n",
    "\n",
    "(cbrt(5))^3"
   ]
  },
  {
   "cell_type": "code",
   "execution_count": 7,
   "metadata": {},
   "outputs": [
    {
     "data": {
      "text/latex": [
       "\\begin{equation*}x\\end{equation*}"
      ],
      "text/plain": [
       "x"
      ]
     },
     "execution_count": 7,
     "metadata": {},
     "output_type": "execute_result"
    }
   ],
   "source": [
    "x = Sym(\"x\")"
   ]
  },
  {
   "cell_type": "code",
   "execution_count": 8,
   "metadata": {},
   "outputs": [
    {
     "data": {
      "text/latex": [
       "\\begin{equation*}x\\end{equation*}"
      ],
      "text/plain": [
       "x"
      ]
     },
     "execution_count": 8,
     "metadata": {},
     "output_type": "execute_result"
    }
   ],
   "source": [
    "# problem 3 solution\n",
    "\n",
    "simplify(cbrt(x)^3)"
   ]
  },
  {
   "cell_type": "code",
   "execution_count": null,
   "metadata": {},
   "outputs": [],
   "source": [
    "\n",
    "\n",
    "\n"
   ]
  }
 ],
 "metadata": {
  "kernelspec": {
   "display_name": "Julia 1.0.3 (4 threads)",
   "language": "julia",
   "name": "julia-1.0k"
  },
  "language_info": {
   "file_extension": ".jl",
   "mimetype": "application/julia",
   "name": "julia",
   "version": "1.0.3"
  }
 },
 "nbformat": 4,
 "nbformat_minor": 2
}
